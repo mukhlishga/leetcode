{
 "cells": [
  {
   "cell_type": "code",
   "execution_count": 60,
   "metadata": {},
   "outputs": [],
   "source": [
    "def romanToInt(s):\n",
    "    inputList = list(s)\n",
    "    output = 0\n",
    "    outputList = []\n",
    "    \n",
    "    for i, item in enumerate(inputList): \n",
    "        if item == 'M':\n",
    "            if inputList[i-1] == 'C' and i != 0:\n",
    "                output += 800\n",
    "            else:\n",
    "                output += 1000\n",
    "        if item == 'D':\n",
    "            if inputList[i-1] == 'C' and i != 0:\n",
    "                output += 300\n",
    "            else:\n",
    "                output += 500\n",
    "        if item == 'C':\n",
    "            if inputList[i-1] == 'X' and i != 0:\n",
    "                output += 80\n",
    "            else:\n",
    "                output += 100\n",
    "        if item == 'L':\n",
    "            if inputList[i-1] == 'X' and i != 0:\n",
    "                output += 30\n",
    "            else:\n",
    "                output += 50\n",
    "        if item == 'X':\n",
    "            if inputList[i-1] == 'I' and i != 0:\n",
    "                output += 8\n",
    "            else:\n",
    "                output += 10\n",
    "        if item == 'V':\n",
    "            if inputList[i-1] == 'I' and i != 0:\n",
    "                output += 3\n",
    "            else:\n",
    "                output += 5\n",
    "        if item == 'I':\n",
    "            output += 1\n",
    "    \n",
    "    return output"
   ]
  },
  {
   "cell_type": "code",
   "execution_count": 62,
   "metadata": {},
   "outputs": [
    {
     "name": "stdout",
     "output_type": "stream",
     "text": [
      "3\n",
      "4\n",
      "9\n",
      "58\n",
      "1994\n",
      "3490\n"
     ]
    }
   ],
   "source": [
    "print(romanToInt('III')) # 3\n",
    "print(romanToInt('IV')) # 4\n",
    "print(romanToInt('IX')) # 9\n",
    "print(romanToInt('LVIII')) # 58\n",
    "print(romanToInt('MCMXCIV')) # 1994\n",
    "print(romanToInt('MMMCDXC')) # 3490"
   ]
  },
  {
   "cell_type": "code",
   "execution_count": 3,
   "metadata": {},
   "outputs": [],
   "source": [
    "class Solution(object):\n",
    "    def romanToInt(self, s):\n",
    "        \"\"\"\n",
    "        :type s: str\n",
    "        :rtype: int\n",
    "        \"\"\"\n",
    "        inputList = list(s)\n",
    "        output = 0\n",
    "        outputList = []\n",
    "\n",
    "        for i, item in enumerate(inputList): \n",
    "            if item == 'M':\n",
    "                if inputList[i-1] == 'C' and i != 0:\n",
    "                    output += 800\n",
    "                else:\n",
    "                    output += 1000\n",
    "            if item == 'D':\n",
    "                if inputList[i-1] == 'C' and i != 0:\n",
    "                    output += 300\n",
    "                else:\n",
    "                    output += 500\n",
    "            if item == 'C':\n",
    "                if inputList[i-1] == 'X' and i != 0:\n",
    "                    output += 80\n",
    "                else:\n",
    "                    output += 100\n",
    "            if item == 'L':\n",
    "                if inputList[i-1] == 'X' and i != 0:\n",
    "                    output += 30\n",
    "                else:\n",
    "                    output += 50\n",
    "            if item == 'X':\n",
    "                if inputList[i-1] == 'I' and i != 0:\n",
    "                    output += 8\n",
    "                else:\n",
    "                    output += 10\n",
    "            if item == 'V':\n",
    "                if inputList[i-1] == 'I' and i != 0:\n",
    "                    output += 3\n",
    "                else:\n",
    "                    output += 5\n",
    "            if item == 'I':\n",
    "                output += 1\n",
    "\n",
    "        return output"
   ]
  }
 ],
 "metadata": {
  "kernelspec": {
   "display_name": "Python 3",
   "language": "python",
   "name": "python3"
  },
  "language_info": {
   "codemirror_mode": {
    "name": "ipython",
    "version": 3
   },
   "file_extension": ".py",
   "mimetype": "text/x-python",
   "name": "python",
   "nbconvert_exporter": "python",
   "pygments_lexer": "ipython3",
   "version": "3.8.3"
  }
 },
 "nbformat": 4,
 "nbformat_minor": 4
}
