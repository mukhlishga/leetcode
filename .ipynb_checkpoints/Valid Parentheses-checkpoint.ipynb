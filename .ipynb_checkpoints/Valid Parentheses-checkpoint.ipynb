{
 "cells": [
  {
   "cell_type": "code",
   "execution_count": 1,
   "metadata": {},
   "outputs": [],
   "source": [
    "def isValid(s):\n",
    "    myDict = {')':'(', '}':'{', ']':'['}\n",
    "    stack = []\n",
    "    \n",
    "    for char in s:\n",
    "        if char in myDict.values(): # ( { {\n",
    "            stack.append(char)\n",
    "        elif char in myDict.keys(): # ) } ]\n",
    "            if stack == [] or myDict[char] != stack.pop():\n",
    "                return False\n",
    "    \n",
    "    return stack == [], stack"
   ]
  },
  {
   "cell_type": "code",
   "execution_count": null,
   "metadata": {},
   "outputs": [],
   "source": [
    "def isBalanced(s):\n",
    "    myDict = {']':'[', '}':'{', ')':'('}\n",
    "    myList = []\n",
    "    \n",
    "    for item in s:\n",
    "        if item in myDict.values():\n",
    "            myList.append(item)\n",
    "        else:\n",
    "            if myList.pop() != myDict[item]:\n",
    "                return 'NO'\n",
    "            elif myList == []:\n",
    "                return 'NO'\n",
    "            else:\n",
    "                pass\n",
    "        \n",
    "    if myList:\n",
    "        return 'NO'\n",
    "    else:\n",
    "        return 'YES'"
   ]
  },
  {
   "cell_type": "code",
   "execution_count": 2,
   "metadata": {},
   "outputs": [],
   "source": [
    "print(isValid(\"()\")) # true\n",
    "print(isValid(\"()[]{}\")) # true\n",
    "print(isValid(\"(]\")) # false\n",
    "print(isValid(\"([)]\")) # false\n",
    "print(isValid(\"{[]}\")) # true"
   ]
  },
  {
   "cell_type": "code",
   "execution_count": 3,
   "metadata": {},
   "outputs": [],
   "source": [
    "class Solution(object):\n",
    "    def isValid(self, s):\n",
    "        \"\"\"\n",
    "        :type s: str\n",
    "        :rtype: bool\n",
    "        \"\"\"\n",
    "        myDict = {')':'(', '}':'{', ']':'['}\n",
    "        stack = []\n",
    "\n",
    "        for char in s:\n",
    "            if char in myDict.values(): # ( { {\n",
    "                stack.append(char)\n",
    "            elif char in myDict.keys(): # ) } ]\n",
    "                if stack == [] or myDict[char] != stack.pop():\n",
    "                    return False\n",
    "\n",
    "        return stack == []"
   ]
  }
 ],
 "metadata": {
  "kernelspec": {
   "display_name": "Python 3",
   "language": "python",
   "name": "python3"
  },
  "language_info": {
   "codemirror_mode": {
    "name": "ipython",
    "version": 3
   },
   "file_extension": ".py",
   "mimetype": "text/x-python",
   "name": "python",
   "nbconvert_exporter": "python",
   "pygments_lexer": "ipython3",
   "version": "3.8.3"
  }
 },
 "nbformat": 4,
 "nbformat_minor": 4
}
