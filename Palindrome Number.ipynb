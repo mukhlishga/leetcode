{
 "cells": [
  {
   "cell_type": "code",
   "execution_count": 62,
   "metadata": {},
   "outputs": [],
   "source": [
    "def palindrome(n):\n",
    "    inputList = list(str(n))\n",
    "    revInputList = []\n",
    "    \n",
    "    for i in range(len(inputList)-1,-1,-1):\n",
    "        revInputList.append(inputList[i])\n",
    "    \n",
    "    if inputList == revInputList:\n",
    "        return True\n",
    "    else:\n",
    "        return False"
   ]
  },
  {
   "cell_type": "code",
   "execution_count": 63,
   "metadata": {},
   "outputs": [
    {
     "name": "stdout",
     "output_type": "stream",
     "text": [
      "True\n",
      "False\n",
      "False\n",
      "False\n"
     ]
    }
   ],
   "source": [
    "print(palindrome(121))\n",
    "print(palindrome(-121))\n",
    "print(palindrome(10))\n",
    "print(palindrome(-101))"
   ]
  },
  {
   "cell_type": "code",
   "execution_count": null,
   "metadata": {},
   "outputs": [],
   "source": [
    "class Solution(object):\n",
    "    def isPalindrome(self, x):\n",
    "        \"\"\"\n",
    "        :type x: int\n",
    "        :rtype: bool\n",
    "        \"\"\"\n",
    "        inputList = list(str(x))\n",
    "        revInputList = []\n",
    "\n",
    "        for i in range(len(inputList)-1,-1,-1):\n",
    "            revInputList.append(inputList[i])\n",
    "\n",
    "        if inputList == revInputList:\n",
    "            return True\n",
    "        else:\n",
    "            return False"
   ]
  }
 ],
 "metadata": {
  "kernelspec": {
   "display_name": "Python 3",
   "language": "python",
   "name": "python3"
  },
  "language_info": {
   "codemirror_mode": {
    "name": "ipython",
    "version": 3
   },
   "file_extension": ".py",
   "mimetype": "text/x-python",
   "name": "python",
   "nbconvert_exporter": "python",
   "pygments_lexer": "ipython3",
   "version": "3.8.3"
  }
 },
 "nbformat": 4,
 "nbformat_minor": 4
}
