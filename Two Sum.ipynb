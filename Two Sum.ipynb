{
 "cells": [
  {
   "cell_type": "code",
   "execution_count": 6,
   "metadata": {},
   "outputs": [],
   "source": [
    "def twoSum(nums, target):\n",
    "    output = []\n",
    "        \n",
    "    for i in nums:\n",
    "        for j in nums:\n",
    "            if target - i == j and nums.index(i) != nums.index(j):\n",
    "                output.append(nums.index(i))\n",
    "                output.append(nums.index(j))\n",
    "                return output"
   ]
  },
  {
   "cell_type": "code",
   "execution_count": 7,
   "metadata": {},
   "outputs": [
    {
     "name": "stdout",
     "output_type": "stream",
     "text": [
      "[0, 1]\n",
      "[1, 2]\n",
      "None\n"
     ]
    }
   ],
   "source": [
    "print(twoSum([2,7,11,15],9))\n",
    "print(twoSum([3,2,4],6))\n",
    "print(twoSum([3,3],6))"
   ]
  },
  {
   "cell_type": "code",
   "execution_count": 8,
   "metadata": {},
   "outputs": [],
   "source": [
    "class Solution(object):\n",
    "    def twoSum(self, nums, target):\n",
    "        \"\"\"\n",
    "        :type nums: List[int]\n",
    "        :type target: int\n",
    "        :rtype: List[int]\n",
    "        \"\"\"\n",
    "        output = []\n",
    "        \n",
    "        for i in nums:\n",
    "            for j in nums:\n",
    "                if target - i == j and nums.index(i) != nums.index(j):\n",
    "                    output.append(nums.index(i))\n",
    "                    output.append(nums.index(j))\n",
    "                    return output"
   ]
  }
 ],
 "metadata": {
  "kernelspec": {
   "display_name": "Python 3",
   "language": "python",
   "name": "python3"
  },
  "language_info": {
   "codemirror_mode": {
    "name": "ipython",
    "version": 3
   },
   "file_extension": ".py",
   "mimetype": "text/x-python",
   "name": "python",
   "nbconvert_exporter": "python",
   "pygments_lexer": "ipython3",
   "version": "3.8.3"
  }
 },
 "nbformat": 4,
 "nbformat_minor": 4
}
